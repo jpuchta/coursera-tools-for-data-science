{
  "metadata": {
    "kernelspec": {
      "name": "python",
      "display_name": "Pyolite",
      "language": "python"
    },
    "language_info": {
      "codemirror_mode": {
        "name": "python",
        "version": 3
      },
      "file_extension": ".py",
      "mimetype": "text/x-python",
      "name": "python",
      "nbconvert_exporter": "python",
      "pygments_lexer": "ipython3",
      "version": "3.8"
    }
  },
  "nbformat_minor": 4,
  "nbformat": 4,
  "cells": [
    {
      "cell_type": "markdown",
      "source": "<center>\n    <img src=\"https://s3-api.us-geo.objectstorage.softlayer.net/cf-courses-data/CognitiveClass/Logos/organization_logo/organization_logo.png\" width=\"300\" alt=\"cognitiveclass.ai logo\"  />\n</center>\n",
      "metadata": {}
    },
    {
      "cell_type": "markdown",
      "source": "# My Jupyter Notebook on IBM Watson Studio",
      "metadata": {}
    },
    {
      "cell_type": "markdown",
      "source": "**Jacek Puchta**\n\nSenior Software Engineer",
      "metadata": {}
    },
    {
      "cell_type": "markdown",
      "source": "_I am interested in data science because I like data and I like science._",
      "metadata": {}
    },
    {
      "cell_type": "markdown",
      "source": "### The code below should add two integer numbers and print the result",
      "metadata": {}
    },
    {
      "cell_type": "code",
      "source": "def add_and_print(a, b):\n    result = a + b\n    print(result)\n    \nadd_and_print(1, 2)",
      "metadata": {
        "trusted": true
      },
      "execution_count": 2,
      "outputs": [
        {
          "name": "stdout",
          "text": "3\n",
          "output_type": "stream"
        }
      ]
    },
    {
      "cell_type": "markdown",
      "source": "A cell preseinting that I know Markdawn syntax:\n\n---\n\n* Bullet 1\n* Bullet 2 - with code: `some code`\n\n---\n\n1. item 1\n1. item 2\n\n---",
      "metadata": {}
    }
  ]
}